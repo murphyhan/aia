{
 "cells": [
  {
   "cell_type": "code",
   "execution_count": 1,
   "metadata": {},
   "outputs": [],
   "source": [
    "import numpy as np\n",
    "import pandas as pd\n",
    "\n",
    "path = '/data/examples/flower_classification/'\n",
    "#path = 'D:\\\\AI\\\\where_am_i\\\\'\n",
    "\n",
    "#TransferLearning開關\n",
    "isTransferLearning = True\n",
    "\n",
    "#input img size, 根據base_model調整圖片size\n",
    "resize = (224, 224)\n",
    "\n",
    "#output labels\n",
    "num_classes = 5\n"
   ]
  },
  {
   "cell_type": "markdown",
   "metadata": {},
   "source": [
    "<h2>prepare data!</h2>"
   ]
  },
  {
   "cell_type": "code",
   "execution_count": 41,
   "metadata": {},
   "outputs": [
    {
     "data": {
      "text/html": [
       "<div>\n",
       "<style scoped>\n",
       "    .dataframe tbody tr th:only-of-type {\n",
       "        vertical-align: middle;\n",
       "    }\n",
       "\n",
       "    .dataframe tbody tr th {\n",
       "        vertical-align: top;\n",
       "    }\n",
       "\n",
       "    .dataframe thead th {\n",
       "        text-align: right;\n",
       "    }\n",
       "</style>\n",
       "<table border=\"1\" class=\"dataframe\">\n",
       "  <thead>\n",
       "    <tr style=\"text-align: right;\">\n",
       "      <th></th>\n",
       "      <th>0</th>\n",
       "      <th>1</th>\n",
       "    </tr>\n",
       "  </thead>\n",
       "  <tbody>\n",
       "    <tr>\n",
       "      <th>0</th>\n",
       "      <td>dirs</td>\n",
       "      <td>class</td>\n",
       "    </tr>\n",
       "    <tr>\n",
       "      <th>1</th>\n",
       "      <td>daisy</td>\n",
       "      <td>0</td>\n",
       "    </tr>\n",
       "    <tr>\n",
       "      <th>2</th>\n",
       "      <td>dandelion</td>\n",
       "      <td>1</td>\n",
       "    </tr>\n",
       "    <tr>\n",
       "      <th>3</th>\n",
       "      <td>rose</td>\n",
       "      <td>2</td>\n",
       "    </tr>\n",
       "    <tr>\n",
       "      <th>4</th>\n",
       "      <td>sunflower</td>\n",
       "      <td>3</td>\n",
       "    </tr>\n",
       "  </tbody>\n",
       "</table>\n",
       "</div>"
      ],
      "text/plain": [
       "           0      1\n",
       "0       dirs  class\n",
       "1      daisy      0\n",
       "2  dandelion      1\n",
       "3       rose      2\n",
       "4  sunflower      3"
      ]
     },
     "execution_count": 41,
     "metadata": {},
     "output_type": "execute_result"
    }
   ],
   "source": [
    "\n",
    "# make a label map\n",
    "df = pd.read_csv(path + 'mapping.csv', header=None)\n",
    "df.head()\n"
   ]
  },
  {
   "cell_type": "code",
   "execution_count": 42,
   "metadata": {},
   "outputs": [
    {
     "name": "stdout",
     "output_type": "stream",
     "text": [
      "5 {'daisy': 0, 'dandelion': 1, 'rose': 2, 'sunflower': 3, 'tulip': 4}\n"
     ]
    }
   ],
   "source": [
    "df=df.drop(index=0)\n",
    "df[1]=df[1].astype(np.int32)\n",
    "yMap = dict(zip(df[0], df[1]))\n",
    "yRMap = dict(zip(df[1], df[0]))\n",
    "print(len(yMap), yMap)"
   ]
  },
  {
   "cell_type": "code",
   "execution_count": 43,
   "metadata": {},
   "outputs": [
    {
     "data": {
      "text/plain": [
       "{0: 'daisy', 1: 'dandelion', 2: 'rose', 3: 'sunflower', 4: 'tulip'}"
      ]
     },
     "execution_count": 43,
     "metadata": {},
     "output_type": "execute_result"
    }
   ],
   "source": [
    "yRMap"
   ]
  },
  {
   "cell_type": "code",
   "execution_count": 3,
   "metadata": {},
   "outputs": [
    {
     "name": "stdout",
     "output_type": "stream",
     "text": [
      "/data/examples/flower_classification/train/daisy/10140303196_b88d3d6cec.jpg\n",
      "/data/examples/flower_classification/train/dandelion/10043234166_e6dd915111_n.jpg\n",
      "/data/examples/flower_classification/train/rose/10090824183_d02c613f10_m.jpg\n",
      "/data/examples/flower_classification/train/sunflower/10386503264_e05387e1f7_m.jpg\n",
      "/data/examples/flower_classification/train/tulip/10094729603_eeca3f2cb6.jpg\n"
     ]
    }
   ],
   "source": [
    "import os\n",
    "\n",
    "# show file structure\n",
    "for dirname, dirnames, filenames in os.walk(path+'train'):    \n",
    "    for filename in filenames:\n",
    "        print(os.path.join(dirname, filename))\n",
    "        break"
   ]
  },
  {
   "cell_type": "code",
   "execution_count": 4,
   "metadata": {},
   "outputs": [
    {
     "name": "stdout",
     "output_type": "stream",
     "text": [
      "(3823, 4)\n"
     ]
    },
    {
     "data": {
      "text/html": [
       "<div>\n",
       "<style scoped>\n",
       "    .dataframe tbody tr th:only-of-type {\n",
       "        vertical-align: middle;\n",
       "    }\n",
       "\n",
       "    .dataframe tbody tr th {\n",
       "        vertical-align: top;\n",
       "    }\n",
       "\n",
       "    .dataframe thead th {\n",
       "        text-align: right;\n",
       "    }\n",
       "</style>\n",
       "<table border=\"1\" class=\"dataframe\">\n",
       "  <thead>\n",
       "    <tr style=\"text-align: right;\">\n",
       "      <th></th>\n",
       "      <th>label</th>\n",
       "      <th>folder</th>\n",
       "      <th>file</th>\n",
       "      <th>path</th>\n",
       "    </tr>\n",
       "  </thead>\n",
       "  <tbody>\n",
       "    <tr>\n",
       "      <th>0</th>\n",
       "      <td>0</td>\n",
       "      <td>daisy</td>\n",
       "      <td>10140303196_b88d3d6cec.jpg</td>\n",
       "      <td>/data/examples/flower_classification/train/dai...</td>\n",
       "    </tr>\n",
       "    <tr>\n",
       "      <th>1</th>\n",
       "      <td>0</td>\n",
       "      <td>daisy</td>\n",
       "      <td>10172379554_b296050f82_n.jpg</td>\n",
       "      <td>/data/examples/flower_classification/train/dai...</td>\n",
       "    </tr>\n",
       "    <tr>\n",
       "      <th>2</th>\n",
       "      <td>0</td>\n",
       "      <td>daisy</td>\n",
       "      <td>10172567486_2748826a8b.jpg</td>\n",
       "      <td>/data/examples/flower_classification/train/dai...</td>\n",
       "    </tr>\n",
       "    <tr>\n",
       "      <th>3</th>\n",
       "      <td>0</td>\n",
       "      <td>daisy</td>\n",
       "      <td>10172636503_21bededa75_n.jpg</td>\n",
       "      <td>/data/examples/flower_classification/train/dai...</td>\n",
       "    </tr>\n",
       "    <tr>\n",
       "      <th>4</th>\n",
       "      <td>0</td>\n",
       "      <td>daisy</td>\n",
       "      <td>10300722094_28fa978807_n.jpg</td>\n",
       "      <td>/data/examples/flower_classification/train/dai...</td>\n",
       "    </tr>\n",
       "  </tbody>\n",
       "</table>\n",
       "</div>"
      ],
      "text/plain": [
       "  label folder                          file  \\\n",
       "0     0  daisy    10140303196_b88d3d6cec.jpg   \n",
       "1     0  daisy  10172379554_b296050f82_n.jpg   \n",
       "2     0  daisy    10172567486_2748826a8b.jpg   \n",
       "3     0  daisy  10172636503_21bededa75_n.jpg   \n",
       "4     0  daisy  10300722094_28fa978807_n.jpg   \n",
       "\n",
       "                                                path  \n",
       "0  /data/examples/flower_classification/train/dai...  \n",
       "1  /data/examples/flower_classification/train/dai...  \n",
       "2  /data/examples/flower_classification/train/dai...  \n",
       "3  /data/examples/flower_classification/train/dai...  \n",
       "4  /data/examples/flower_classification/train/dai...  "
      ]
     },
     "execution_count": 4,
     "metadata": {},
     "output_type": "execute_result"
    }
   ],
   "source": [
    "import os\n",
    "import pandas as pd\n",
    "\n",
    "#make a image table\n",
    "trainList = []\n",
    "for dirname, dirnames, filenames in os.walk(path+'train'):    \n",
    "    for filename in filenames:\n",
    "        folderName = os.path.split(dirname)[-1]\n",
    "        #print(os.path.join(dirname, filename), folderName)        \n",
    "        row = []\n",
    "        row.append(yMap[folderName])\n",
    "        row.append(folderName)\n",
    "        row.append(filename)\n",
    "        row.append(os.path.join(dirname, filename))\n",
    "        trainList.append(row)        \n",
    "        \n",
    "trainDf = pd.DataFrame(trainList, columns=['label','folder','file','path'])          \n",
    "print(trainDf.shape)\n",
    "trainDf.head()"
   ]
  },
  {
   "cell_type": "code",
   "execution_count": null,
   "metadata": {},
   "outputs": [],
   "source": [
    "#test img\n",
    "\n",
    "import cv2\n",
    "%matplotlib inline\n",
    "import matplotlib.pyplot as plt\n",
    "\n",
    "img = cv2.imread(trainDf['path'][3])\n",
    "print('img.shape',img.shape)\n",
    "\n",
    "img = cv2.resize(img, resize)\n",
    "plt.imshow(img) #, cmap='gray'\n",
    "print('img.shape',img.shape)\n",
    "print('color dim:',img[0][0])\n"
   ]
  },
  {
   "cell_type": "code",
   "execution_count": 6,
   "metadata": {},
   "outputs": [],
   "source": [
    "#圖檔變數值資料\n",
    "def getXData(dataFrame):\n",
    "    X = np.array([cv2.resize(cv2.imread(file), resize).astype(np.float32) for file in dataFrame['path']])\n",
    "    print('X.shape', X.shape)\n",
    "    print(X[0][0][0])\n",
    "    if isTransferLearning:\n",
    "        X[:,:,:,0] = (X[:,:,:,0] - 103.94) * 0.017\n",
    "        X[:,:,:,1] = (X[:,:,:,1] - 116.78) * 0.017\n",
    "        X[:,:,:,2] = (X[:,:,:,2] - 123.68) * 0.017\n",
    "    else:\n",
    "        X /= 255.\n",
    "    \n",
    "    print(X[0][0][0])\n",
    "    return X"
   ]
  },
  {
   "cell_type": "code",
   "execution_count": 7,
   "metadata": {},
   "outputs": [
    {
     "name": "stderr",
     "output_type": "stream",
     "text": [
      "Using TensorFlow backend.\n"
     ]
    },
    {
     "name": "stdout",
     "output_type": "stream",
     "text": [
      "X.shape (3823, 224, 224, 3)\n",
      "[ 223.  216.  212.]\n",
      "[ 2.02401996  1.68674016  1.50144005]\n",
      "(3823, 5)\n",
      "[ 1.  0.  0.  0.  0.]\n"
     ]
    }
   ],
   "source": [
    "import keras\n",
    "\n",
    "#圖片變數值資料\n",
    "X = getXData(trainDf)\n",
    "\n",
    "#one hot encoding Y\n",
    "label = keras.utils.to_categorical(trainDf['label'], num_classes)\n",
    "\n",
    "print(label.shape)\n",
    "print(label[0])"
   ]
  },
  {
   "cell_type": "code",
   "execution_count": 8,
   "metadata": {},
   "outputs": [
    {
     "name": "stdout",
     "output_type": "stream",
     "text": [
      "(3058, 224, 224, 3) (3058, 5) (765, 224, 224, 3) (765, 5)\n",
      "[-1.71598017 -1.18625998 -1.45656013]\n",
      "[[ 1.  0.  0.  0.  0.]\n",
      " [ 0.  0.  0.  1.  0.]\n",
      " [ 0.  0.  0.  1.  0.]\n",
      " [ 1.  0.  0.  0.  0.]\n",
      " [ 0.  0.  0.  0.  1.]]\n",
      "(224, 224, 3)\n"
     ]
    }
   ],
   "source": [
    "from sklearn.model_selection import train_test_split\n",
    "\n",
    "x_train, x_test, y_train, y_test = train_test_split(\n",
    "    X, label, test_size=0.2) #default就會shuffle, 不用random_state=42\n",
    "\n",
    "print(x_train.shape, y_train.shape,x_test.shape, y_test.shape)\n",
    "print(x_train[0][0][0])\n",
    "print(y_train[0:5])\n",
    "print(x_train[0].shape)"
   ]
  },
  {
   "cell_type": "markdown",
   "metadata": {},
   "source": [
    "<h2>build model!</h2>\n",
    "model參考 https://github.com/keras-team/keras/blob/master/examples/cifar10_cnn.py\n",
    "\n",
    "DenseNet-Keras: https://github.com/flyyufelix/DenseNet-Keras/blob/master/test_inference.py"
   ]
  },
  {
   "cell_type": "code",
   "execution_count": 9,
   "metadata": {},
   "outputs": [],
   "source": [
    "import keras\n",
    "from keras.preprocessing.image import ImageDataGenerator\n",
    "from keras.models import Sequential, load_model, Model\n",
    "from keras.layers import Dense, Dropout, Activation, Flatten, BatchNormalization, GlobalAveragePooling2D\n",
    "from keras.layers import Conv2D, MaxPooling2D\n",
    "from keras.callbacks import EarlyStopping, ModelCheckpoint\n",
    "\n",
    "import matplotlib.pyplot as plt\n",
    "import os\n",
    "\n",
    "if isTransferLearning:\n",
    "    #(224, 224)\n",
    "    #base_model = keras.applications.mobilenetv2.MobileNetV2(input_shape=x_train[0].shape, alpha=1.0, depth_multiplier=1, include_top=False, weights='imagenet')    \n",
    "    #base_model = keras.applications.densenet.DenseNet121(include_top=False, weights='imagenet', input_shape=x_train[0].shape)    \n",
    "    base_model = keras.applications.densenet.DenseNet201(weights='imagenet', include_top=False, input_shape=x_train[0].shape)\n",
    "    #base_model = keras.applications.resnet50.ResNet50(include_top=False, weights='imagenet', input_shape=x_train[0].shape)\n",
    "    #(299, 299)\n",
    "    #base_model = keras.applications.inception_resnet_v2.InceptionResNetV2(include_top=False, weights='imagenet', input_shape=x_train[0].shape)\n",
    "  \n",
    "\n",
    "    # add a global spatial average pooling layer\n",
    "    x = base_model.output\n",
    "    x = GlobalAveragePooling2D(data_format='channels_last')(x) #可比Flatten()少參數量\n",
    "    x = Dropout(0.5)(x)\n",
    "\n",
    "    # let's add a fully-connected layer\n",
    "    #x = Dense(1024, activation='relu')(x)\n",
    "    # and a logistic layer \n",
    "    predictions = Dense(num_classes, activation='softmax')(x)\n",
    "\n",
    "    # this is the model we will train\n",
    "    model = Model(inputs=base_model.input, outputs=predictions)\n",
    "   \n",
    "    layerTransfer = False\n",
    "    if layerTransfer:    \n",
    "        #前面layer固定不train\n",
    "        for layer in base_model.layers[0:-6]:\n",
    "            layer.trainable = False\n",
    "else:    \n",
    "    # build our CNN model\n",
    "    model = Sequential()\n",
    "    model.add(Conv2D(32, (3, 3), padding='same',\n",
    "                     input_shape=x_train[0].shape))\n",
    "    model.add(Activation('relu'))\n",
    "    model.add(Conv2D(32, (3, 3)))\n",
    "    model.add(Activation('relu'))\n",
    "    model.add(MaxPooling2D(pool_size=(2, 2)))\n",
    "    model.add(Dropout(0.25))\n",
    "\n",
    "    model.add(Conv2D(64, (3, 3), padding='same'))\n",
    "    model.add(Activation('relu'))\n",
    "\n",
    "    model.add(MaxPooling2D(pool_size=(2, 2)))\n",
    "    model.add(Dropout(0.25))\n",
    "\n",
    "    model.add(Flatten())\n",
    "    model.add(Dense(256))\n",
    "    model.add(Activation('relu'))\n",
    "    model.add(Dropout(0.5))\n",
    "    model.add(Dense(num_classes))\n",
    "    model.add(Activation('softmax'))\n",
    "\n"
   ]
  },
  {
   "cell_type": "code",
   "execution_count": 10,
   "metadata": {},
   "outputs": [
    {
     "name": "stdout",
     "output_type": "stream",
     "text": [
      "709\n"
     ]
    }
   ],
   "source": [
    "#print(model.summary())\n",
    "print(len(model.layers))"
   ]
  },
  {
   "cell_type": "code",
   "execution_count": 11,
   "metadata": {},
   "outputs": [
    {
     "name": "stdout",
     "output_type": "stream",
     "text": [
      "Total params: 18,331,589\n",
      "Trainable params: 18,102,533\n",
      "Non-trainable params: 229,056\n"
     ]
    }
   ],
   "source": [
    "from keras import backend as K\n",
    "\n",
    "trainable_count = int(\n",
    "    np.sum([K.count_params(p) for p in set(model.trainable_weights)]))\n",
    "non_trainable_count = int(\n",
    "    np.sum([K.count_params(p) for p in set(model.non_trainable_weights)]))\n",
    "\n",
    "print('Total params: {:,}'.format(trainable_count + non_trainable_count))\n",
    "print('Trainable params: {:,}'.format(trainable_count))\n",
    "print('Non-trainable params: {:,}'.format(non_trainable_count))"
   ]
  },
  {
   "cell_type": "code",
   "execution_count": 12,
   "metadata": {},
   "outputs": [],
   "source": [
    "\n",
    "#opt = keras.optimizers.Adam()\n",
    "opt = keras.optimizers.Adam(lr=10e-6) #10e-6 = 0.00001\n",
    "#opt = keras.optimizers.rmsprop(lr=0.0001, decay=1e-6)\n",
    "#opt = keras.optimizers.SGD(lr=1e-2, decay=1e-6, momentum=0.9, nesterov=True)\n",
    "\n",
    "model.compile(loss='categorical_crossentropy',\n",
    "              optimizer=opt,\n",
    "              metrics=['accuracy'])\n",
    "\n"
   ]
  },
  {
   "cell_type": "markdown",
   "metadata": {},
   "source": [
    "<h2>start training!</h2>"
   ]
  },
  {
   "cell_type": "code",
   "execution_count": 13,
   "metadata": {},
   "outputs": [
    {
     "name": "stdout",
     "output_type": "stream",
     "text": [
      "(3058, 224, 224, 3) (3058, 5) (765, 224, 224, 3) (765, 5)\n",
      "Using real-time data augmentation.\n",
      "/home/jovyan/murphy/midexam/saved_models\n",
      "Epoch 1/100\n",
      "123/123 [==============================] - 199s 2s/step - loss: 1.2333 - acc: 0.5143 - val_loss: 0.6204 - val_acc: 0.7843\n",
      "Epoch 2/100\n",
      "123/123 [==============================] - 55s 445ms/step - loss: 0.6296 - acc: 0.7684 - val_loss: 0.4188 - val_acc: 0.8614\n",
      "Epoch 3/100\n",
      "123/123 [==============================] - 56s 455ms/step - loss: 0.4801 - acc: 0.8236 - val_loss: 0.3338 - val_acc: 0.8876\n",
      "Epoch 4/100\n",
      "123/123 [==============================] - 56s 453ms/step - loss: 0.3758 - acc: 0.8666 - val_loss: 0.2922 - val_acc: 0.9020\n",
      "Epoch 5/100\n",
      "123/123 [==============================] - 56s 452ms/step - loss: 0.3253 - acc: 0.8878 - val_loss: 0.2637 - val_acc: 0.9124\n",
      "Epoch 6/100\n",
      "123/123 [==============================] - 56s 452ms/step - loss: 0.2684 - acc: 0.9096 - val_loss: 0.2394 - val_acc: 0.9137\n",
      "Epoch 7/100\n",
      "123/123 [==============================] - 55s 444ms/step - loss: 0.2442 - acc: 0.9125 - val_loss: 0.2292 - val_acc: 0.9190\n",
      "Epoch 8/100\n",
      "123/123 [==============================] - 55s 449ms/step - loss: 0.2234 - acc: 0.9215 - val_loss: 0.2219 - val_acc: 0.9229\n",
      "Epoch 9/100\n",
      "123/123 [==============================] - 56s 454ms/step - loss: 0.2018 - acc: 0.9310 - val_loss: 0.2068 - val_acc: 0.9242\n",
      "Epoch 10/100\n",
      "123/123 [==============================] - 54s 440ms/step - loss: 0.1824 - acc: 0.9388 - val_loss: 0.2012 - val_acc: 0.9242\n",
      "Epoch 11/100\n",
      "123/123 [==============================] - 55s 448ms/step - loss: 0.1617 - acc: 0.9453 - val_loss: 0.1924 - val_acc: 0.9333\n",
      "Epoch 12/100\n",
      "123/123 [==============================] - 52s 421ms/step - loss: 0.1336 - acc: 0.9561 - val_loss: 0.1949 - val_acc: 0.9255\n",
      "Epoch 13/100\n",
      "123/123 [==============================] - 55s 449ms/step - loss: 0.1127 - acc: 0.9642 - val_loss: 0.1866 - val_acc: 0.9294\n",
      "Epoch 14/100\n",
      "123/123 [==============================] - 54s 440ms/step - loss: 0.1146 - acc: 0.9619 - val_loss: 0.1830 - val_acc: 0.9412\n",
      "Epoch 15/100\n",
      "123/123 [==============================] - 56s 453ms/step - loss: 0.1031 - acc: 0.9672 - val_loss: 0.1818 - val_acc: 0.9373\n",
      "Epoch 16/100\n",
      "123/123 [==============================] - 55s 450ms/step - loss: 0.0949 - acc: 0.9711 - val_loss: 0.1771 - val_acc: 0.9320\n",
      "Epoch 17/100\n",
      "123/123 [==============================] - 55s 444ms/step - loss: 0.0819 - acc: 0.9750 - val_loss: 0.1768 - val_acc: 0.9359\n",
      "Epoch 18/100\n",
      "123/123 [==============================] - 56s 454ms/step - loss: 0.0732 - acc: 0.9769 - val_loss: 0.1753 - val_acc: 0.9333\n",
      "Epoch 19/100\n",
      "123/123 [==============================] - 52s 425ms/step - loss: 0.0630 - acc: 0.9798 - val_loss: 0.1815 - val_acc: 0.9359\n",
      "Epoch 20/100\n",
      "123/123 [==============================] - 57s 462ms/step - loss: 0.0574 - acc: 0.9837 - val_loss: 0.1698 - val_acc: 0.9373\n",
      "Epoch 21/100\n",
      "123/123 [==============================] - 51s 418ms/step - loss: 0.0497 - acc: 0.9870 - val_loss: 0.1716 - val_acc: 0.9373\n",
      "Epoch 22/100\n",
      "123/123 [==============================] - 56s 454ms/step - loss: 0.0544 - acc: 0.9823 - val_loss: 0.1665 - val_acc: 0.9359\n",
      "Epoch 23/100\n",
      "123/123 [==============================] - 56s 451ms/step - loss: 0.0493 - acc: 0.9834 - val_loss: 0.1663 - val_acc: 0.9359\n",
      "Epoch 24/100\n",
      "123/123 [==============================] - 52s 426ms/step - loss: 0.0426 - acc: 0.9892 - val_loss: 0.1726 - val_acc: 0.9386\n",
      "Epoch 25/100\n",
      "123/123 [==============================] - 53s 428ms/step - loss: 0.0401 - acc: 0.9882 - val_loss: 0.1718 - val_acc: 0.9438\n",
      "Epoch 26/100\n",
      "123/123 [==============================] - 53s 428ms/step - loss: 0.0383 - acc: 0.9886 - val_loss: 0.1731 - val_acc: 0.9399\n",
      "Epoch 27/100\n",
      "123/123 [==============================] - 53s 428ms/step - loss: 0.0373 - acc: 0.9876 - val_loss: 0.1744 - val_acc: 0.9438\n",
      "Epoch 28/100\n",
      "123/123 [==============================] - 52s 426ms/step - loss: 0.0234 - acc: 0.9961 - val_loss: 0.1769 - val_acc: 0.9451\n",
      "Loading trained model  /home/jovyan/murphy/midexam/saved_models/keras_trained_model.h5\n",
      "765/765 [==============================] - 5s 6ms/step\n",
      "Test loss: 0.176924014208\n",
      "Test accuracy: 0.945098039372\n",
      "modelBest <keras.engine.training.Model object at 0x7fa5efe9d780>\n",
      "765/765 [==============================] - 8s 11ms/step\n",
      "modelBest loss: 0.166319067689\n",
      "modelBest accuracy: 0.935947711873\n"
     ]
    }
   ],
   "source": [
    "\n",
    "print(x_train.shape, y_train.shape,x_test.shape, y_test.shape)\n",
    "\n",
    "print('Using real-time data augmentation.')\n",
    "# This will do preprocessing and realtime data augmentation:\n",
    "datagen = ImageDataGenerator(\n",
    "    rotation_range=10,\n",
    "    width_shift_range=0.2,\n",
    "    height_shift_range=0.2,\n",
    "    shear_range=0.2,\n",
    "    zoom_range=0.2,\n",
    "    horizontal_flip=True,\n",
    "    fill_mode='nearest')\n",
    "\n",
    "datagen.fit(x_train)\n",
    "\n",
    "\n",
    "# Use ModelCheckpoint to save model and weights\n",
    "save_dir = os.path.join(os.getcwd(), 'saved_models')\n",
    "model_name = 'keras_trained_model.h5'\n",
    "print(save_dir)\n",
    "if not os.path.isdir(save_dir):\n",
    "    os.makedirs(save_dir)\n",
    "model_path = os.path.join(save_dir, model_name)\n",
    "checkpoint = ModelCheckpoint(model_path, monitor='val_loss', save_best_only=True, verbose=0)\n",
    "\n",
    "# earlystop\n",
    "earlystop = EarlyStopping(monitor='val_loss', patience=5, verbose=0)\n",
    "\n",
    "\n",
    "batch_size = 25 #x_train.size / batch_size 就是每次epoch要跑的次數\n",
    "epochs = 100\n",
    "\n",
    "model_history = model.fit_generator(datagen.flow(x_train, y_train,\n",
    "                             batch_size=batch_size),\n",
    "                epochs=epochs,\n",
    "                validation_data=(x_test, y_test),\n",
    "                workers=4,\n",
    "                callbacks=[earlystop, checkpoint])\n",
    "\n",
    "# loading our save model\n",
    "print(\"Loading trained model \", model_path)\n",
    "modelBest = load_model(model_path)\n",
    "\n",
    "\n",
    "# Score trained model.\n",
    "scores = model.evaluate(x_test, y_test, verbose=1)\n",
    "print('Test loss:', scores[0])\n",
    "print('Test accuracy:', scores[1])\n",
    "\n",
    "\n",
    "if modelBest is not None:\n",
    "    print('modelBest',modelBest)\n",
    "    scores = modelBest.evaluate(x_test, y_test, verbose=1)\n",
    "    print('modelBest loss:', scores[0])\n",
    "    print('modelBest accuracy:', scores[1])\n",
    "    model = modelBest\n",
    "\n",
    "    \n",
    "    "
   ]
  },
  {
   "cell_type": "code",
   "execution_count": 14,
   "metadata": {},
   "outputs": [
    {
     "data": {
      "image/png": "[encoded data removed]",
      "text/plain": [
       "<Figure size 432x288 with 1 Axes>"
      ]
     },
     "metadata": {},
     "output_type": "display_data"
    }
   ],
   "source": [
    "acc = model_history.history['acc']\n",
    "val_acc = model_history.history['val_acc']\n",
    "\n",
    "plt.plot(acc, label=\"acc\")\n",
    "plt.plot(val_acc, label=\"val_acc\")\n",
    "plt.xlabel(\"Epochs\")\n",
    "plt.ylabel(\"Acc\")\n",
    "plt.title(\"Learning Curve\")\n",
    "plt.legend(loc='best')\n",
    "plt.show()"
   ]
  },
  {
   "cell_type": "code",
   "execution_count": 15,
   "metadata": {},
   "outputs": [
    {
     "data": {
      "image/png": "[encoded data removed]",
      "text/plain": [
       "<Figure size 432x288 with 1 Axes>"
      ]
     },
     "metadata": {},
     "output_type": "display_data"
    }
   ],
   "source": [
    "training_loss = model_history.history['loss']\n",
    "val_loss = model_history.history['val_loss']\n",
    "\n",
    "plt.plot(training_loss, label=\"training_loss\")\n",
    "plt.plot(val_loss, label=\"validation_loss\")\n",
    "plt.xlabel(\"Epochs\")\n",
    "plt.ylabel(\"Loss\")\n",
    "plt.title(\"Learning Curve\")\n",
    "plt.legend(loc='best')\n",
    "plt.show()"
   ]
  },
  {
   "cell_type": "code",
   "execution_count": 16,
   "metadata": {},
   "outputs": [
    {
     "name": "stdout",
     "output_type": "stream",
     "text": [
      "(765, 5)\n"
     ]
    }
   ],
   "source": [
    "y_val_pred_prob = model.predict(x_test)\n",
    "print(y_val_pred_prob.shape)\n",
    "y_val_label = y_val_pred_prob.argmax(axis=-1)\n",
    "y_test_label = y_test.argmax(axis=-1)"
   ]
  },
  {
   "cell_type": "code",
   "execution_count": 17,
   "metadata": {},
   "outputs": [
    {
     "data": {
      "text/html": [
       "<div>\n",
       "<style scoped>\n",
       "    .dataframe tbody tr th:only-of-type {\n",
       "        vertical-align: middle;\n",
       "    }\n",
       "\n",
       "    .dataframe tbody tr th {\n",
       "        vertical-align: top;\n",
       "    }\n",
       "\n",
       "    .dataframe thead th {\n",
       "        text-align: right;\n",
       "    }\n",
       "</style>\n",
       "<table border=\"1\" class=\"dataframe\">\n",
       "  <thead>\n",
       "    <tr style=\"text-align: right;\">\n",
       "      <th>col_0</th>\n",
       "      <th>0</th>\n",
       "      <th>1</th>\n",
       "      <th>2</th>\n",
       "      <th>3</th>\n",
       "      <th>4</th>\n",
       "    </tr>\n",
       "    <tr>\n",
       "      <th>row_0</th>\n",
       "      <th></th>\n",
       "      <th></th>\n",
       "      <th></th>\n",
       "      <th></th>\n",
       "      <th></th>\n",
       "    </tr>\n",
       "  </thead>\n",
       "  <tbody>\n",
       "    <tr>\n",
       "      <th>0</th>\n",
       "      <td>109</td>\n",
       "      <td>5</td>\n",
       "      <td>1</td>\n",
       "      <td>0</td>\n",
       "      <td>1</td>\n",
       "    </tr>\n",
       "    <tr>\n",
       "      <th>1</th>\n",
       "      <td>8</td>\n",
       "      <td>180</td>\n",
       "      <td>0</td>\n",
       "      <td>4</td>\n",
       "      <td>2</td>\n",
       "    </tr>\n",
       "    <tr>\n",
       "      <th>2</th>\n",
       "      <td>0</td>\n",
       "      <td>2</td>\n",
       "      <td>136</td>\n",
       "      <td>0</td>\n",
       "      <td>7</td>\n",
       "    </tr>\n",
       "    <tr>\n",
       "      <th>3</th>\n",
       "      <td>1</td>\n",
       "      <td>2</td>\n",
       "      <td>2</td>\n",
       "      <td>104</td>\n",
       "      <td>4</td>\n",
       "    </tr>\n",
       "    <tr>\n",
       "      <th>4</th>\n",
       "      <td>0</td>\n",
       "      <td>2</td>\n",
       "      <td>6</td>\n",
       "      <td>2</td>\n",
       "      <td>187</td>\n",
       "    </tr>\n",
       "  </tbody>\n",
       "</table>\n",
       "</div>"
      ],
      "text/plain": [
       "col_0    0    1    2    3    4\n",
       "row_0                         \n",
       "0      109    5    1    0    1\n",
       "1        8  180    0    4    2\n",
       "2        0    2  136    0    7\n",
       "3        1    2    2  104    4\n",
       "4        0    2    6    2  187"
      ]
     },
     "execution_count": 17,
     "metadata": {},
     "output_type": "execute_result"
    }
   ],
   "source": [
    "crosstab = pd.crosstab(y_test_label, \n",
    "            y_val_label)\n",
    "crosstab"
   ]
  },
  {
   "cell_type": "code",
   "execution_count": 30,
   "metadata": {},
   "outputs": [
    {
     "data": {
      "text/plain": [
       "{'0': 'daisy', '1': 'dandelion', '2': 'rose', '3': 'sunflower', '4': 'tulip'}"
      ]
     },
     "execution_count": 30,
     "metadata": {},
     "output_type": "execute_result"
    }
   ],
   "source": [
    "yRMap"
   ]
  },
  {
   "cell_type": "code",
   "execution_count": 44,
   "metadata": {},
   "outputs": [
    {
     "name": "stdout",
     "output_type": "stream",
     "text": [
      "(765, 2)\n",
      "actual: rose predict: tulip\n"
     ]
    },
    {
     "data": {
      "text/html": [
       "<div>\n",
       "<style scoped>\n",
       "    .dataframe tbody tr th:only-of-type {\n",
       "        vertical-align: middle;\n",
       "    }\n",
       "\n",
       "    .dataframe tbody tr th {\n",
       "        vertical-align: top;\n",
       "    }\n",
       "\n",
       "    .dataframe thead th {\n",
       "        text-align: right;\n",
       "    }\n",
       "</style>\n",
       "<table border=\"1\" class=\"dataframe\">\n",
       "  <thead>\n",
       "    <tr style=\"text-align: right;\">\n",
       "      <th></th>\n",
       "      <th>label</th>\n",
       "      <th>predict</th>\n",
       "    </tr>\n",
       "  </thead>\n",
       "  <tbody>\n",
       "    <tr>\n",
       "      <th>21</th>\n",
       "      <td>2</td>\n",
       "      <td>4</td>\n",
       "    </tr>\n",
       "    <tr>\n",
       "      <th>55</th>\n",
       "      <td>2</td>\n",
       "      <td>4</td>\n",
       "    </tr>\n",
       "    <tr>\n",
       "      <th>368</th>\n",
       "      <td>2</td>\n",
       "      <td>4</td>\n",
       "    </tr>\n",
       "    <tr>\n",
       "      <th>417</th>\n",
       "      <td>2</td>\n",
       "      <td>4</td>\n",
       "    </tr>\n",
       "    <tr>\n",
       "      <th>496</th>\n",
       "      <td>2</td>\n",
       "      <td>4</td>\n",
       "    </tr>\n",
       "    <tr>\n",
       "      <th>662</th>\n",
       "      <td>2</td>\n",
       "      <td>4</td>\n",
       "    </tr>\n",
       "    <tr>\n",
       "      <th>734</th>\n",
       "      <td>2</td>\n",
       "      <td>4</td>\n",
       "    </tr>\n",
       "  </tbody>\n",
       "</table>\n",
       "</div>"
      ],
      "text/plain": [
       "     label  predict\n",
       "21       2        4\n",
       "55       2        4\n",
       "368      2        4\n",
       "417      2        4\n",
       "496      2        4\n",
       "662      2        4\n",
       "734      2        4"
      ]
     },
     "execution_count": 44,
     "metadata": {},
     "output_type": "execute_result"
    }
   ],
   "source": [
    "df = pd.DataFrame({'label':y_test_label, 'predict':y_val_label})\n",
    "print(df.shape)\n",
    "\n",
    "actualIndex, predictIndex = 2,4\n",
    "\n",
    "print('actual:',yRMap[actualIndex], 'predict:',yRMap[predictIndex])\n",
    "\n",
    "ngDf = df[(df.label == actualIndex) & (df.predict == predictIndex)]\n",
    "ngDf"
   ]
  },
  {
   "cell_type": "code",
   "execution_count": null,
   "metadata": {},
   "outputs": [],
   "source": [
    "for ii in ngDf.index:\n",
    "    print(ii)"
   ]
  },
  {
   "cell_type": "code",
   "execution_count": 47,
   "metadata": {},
   "outputs": [
    {
     "data": {
      "text/plain": [
       "<matplotlib.image.AxesImage at 0x7fa563edccf8>"
      ]
     },
     "execution_count": 47,
     "metadata": {},
     "output_type": "execute_result"
    },
    {
     "data": {
      "image/png": "[encoded data removed]",
      "text/plain": [
       "<Figure size 432x288 with 1 Axes>"
      ]
     },
     "metadata": {},
     "output_type": "display_data"
    }
   ],
   "source": [
    "img = x_test[662]\n",
    "\n",
    "img[:,:,0] = (img[:,:,0] / 0.017) + 103.94\n",
    "img[:,:,1] = (img[:,:,1] / 0.017) + 116.78\n",
    "img[:,:,2] = (img[:,:,2] / 0.017) + 123.68\n",
    "\n",
    "img = img.astype(np.int32)\n",
    "\n",
    "plt.imshow(img)"
   ]
  },
  {
   "cell_type": "code",
   "execution_count": null,
   "metadata": {},
   "outputs": [],
   "source": [
    "import numpy as np\n",
    "import matplotlib.pyplot as plt\n",
    "\n",
    "w=10\n",
    "h=10\n",
    "fig=plt.figure(figsize=(20, 20))\n",
    "columns = 4\n",
    "rows = 5\n",
    "i=1\n",
    "for ii in ngDf.index:\n",
    "    fig.add_subplot(rows, columns, i)\n",
    "    i=i+1\n",
    "    img = x_test[ii]\n",
    "\n",
    "    img[:,:,0] = (img[:,:,0] / 0.017) + 103.94\n",
    "    img[:,:,1] = (img[:,:,1] / 0.017) + 116.78\n",
    "    img[:,:,2] = (img[:,:,2] / 0.017) + 123.68\n",
    "\n",
    "    img = img.astype(np.int32)    \n",
    "    fig.add_subplot(rows, columns, i)\n",
    "    plt.imshow(img)\n",
    "plt.show()"
   ]
  },
  {
   "cell_type": "markdown",
   "metadata": {},
   "source": [
    "<h2>start predict!</h2>"
   ]
  },
  {
   "cell_type": "code",
   "execution_count": 49,
   "metadata": {},
   "outputs": [
    {
     "name": "stdout",
     "output_type": "stream",
     "text": [
      "(500, 2) 100080576_f52e8ee070_n /data/examples/flower_classification/test/100080576_f52e8ee070_n.jpg\n"
     ]
    }
   ],
   "source": [
    "# make test data\n",
    "import os\n",
    "import pandas as pd\n",
    "\n",
    "testList = []\n",
    "for dirname, dirnames, filenames in os.walk(path+'test'):    \n",
    "    for filename in filenames:\n",
    "        row = []\n",
    "        row.append(filename.replace('.jpg',''))\n",
    "        row.append(os.path.join(dirname, filename))\n",
    "        testList.append(row)\n",
    "        \n",
    "testDf = pd.DataFrame(testList, columns=['id','path'])        \n",
    "  \n",
    "print(testDf.shape, testDf.iloc[0,0], testDf.iloc[0,1])"
   ]
  },
  {
   "cell_type": "code",
   "execution_count": 50,
   "metadata": {},
   "outputs": [
    {
     "data": {
      "text/html": [
       "<div>\n",
       "<style scoped>\n",
       "    .dataframe tbody tr th:only-of-type {\n",
       "        vertical-align: middle;\n",
       "    }\n",
       "\n",
       "    .dataframe tbody tr th {\n",
       "        vertical-align: top;\n",
       "    }\n",
       "\n",
       "    .dataframe thead th {\n",
       "        text-align: right;\n",
       "    }\n",
       "</style>\n",
       "<table border=\"1\" class=\"dataframe\">\n",
       "  <thead>\n",
       "    <tr style=\"text-align: right;\">\n",
       "      <th></th>\n",
       "      <th>id</th>\n",
       "      <th>path</th>\n",
       "    </tr>\n",
       "  </thead>\n",
       "  <tbody>\n",
       "    <tr>\n",
       "      <th>0</th>\n",
       "      <td>100080576_f52e8ee070_n</td>\n",
       "      <td>/data/examples/flower_classification/test/1000...</td>\n",
       "    </tr>\n",
       "    <tr>\n",
       "      <th>1</th>\n",
       "      <td>1008566138_6927679c8a</td>\n",
       "      <td>/data/examples/flower_classification/test/1008...</td>\n",
       "    </tr>\n",
       "    <tr>\n",
       "      <th>2</th>\n",
       "      <td>100930342_92e8746431_n</td>\n",
       "      <td>/data/examples/flower_classification/test/1009...</td>\n",
       "    </tr>\n",
       "    <tr>\n",
       "      <th>3</th>\n",
       "      <td>1022552002_2b93faf9e7_n</td>\n",
       "      <td>/data/examples/flower_classification/test/1022...</td>\n",
       "    </tr>\n",
       "    <tr>\n",
       "      <th>4</th>\n",
       "      <td>1022552036_67d33d5bd8_n</td>\n",
       "      <td>/data/examples/flower_classification/test/1022...</td>\n",
       "    </tr>\n",
       "  </tbody>\n",
       "</table>\n",
       "</div>"
      ],
      "text/plain": [
       "                        id                                               path\n",
       "0   100080576_f52e8ee070_n  /data/examples/flower_classification/test/1000...\n",
       "1    1008566138_6927679c8a  /data/examples/flower_classification/test/1008...\n",
       "2   100930342_92e8746431_n  /data/examples/flower_classification/test/1009...\n",
       "3  1022552002_2b93faf9e7_n  /data/examples/flower_classification/test/1022...\n",
       "4  1022552036_67d33d5bd8_n  /data/examples/flower_classification/test/1022..."
      ]
     },
     "execution_count": 50,
     "metadata": {},
     "output_type": "execute_result"
    }
   ],
   "source": [
    "testDf.head()"
   ]
  },
  {
   "cell_type": "code",
   "execution_count": 51,
   "metadata": {},
   "outputs": [
    {
     "name": "stdout",
     "output_type": "stream",
     "text": [
      "X.shape (500, 224, 224, 3)\n",
      "[ 134.  135.  135.]\n",
      "[ 0.51102     0.30974004  0.19244   ]\n",
      "(500,)\n"
     ]
    }
   ],
   "source": [
    "\n",
    "imgTest = getXData(testDf)    \n",
    "\n",
    "if isTransferLearning:\n",
    "    y_test_pred_prob = model.predict(imgTest)\n",
    "    y_pred = y_test_pred_prob.argmax(axis=-1)\n",
    "else:\n",
    "    y_pred=model.predict_classes(imgTest)\n",
    "\n",
    "\n",
    "print(y_pred.shape)"
   ]
  },
  {
   "cell_type": "code",
   "execution_count": 53,
   "metadata": {},
   "outputs": [
    {
     "name": "stdout",
     "output_type": "stream",
     "text": [
      "(500, 2)\n"
     ]
    }
   ],
   "source": [
    "# output result\n",
    "out = pd.DataFrame()\n",
    "out['id'] = testDf['id']\n",
    "out['class'] = y_pred\n",
    "print(out.shape)\n",
    "out.to_csv('flower_submit.csv',index=False)"
   ]
  },
  {
   "cell_type": "code",
   "execution_count": null,
   "metadata": {},
   "outputs": [],
   "source": []
  },
  {
   "cell_type": "code",
   "execution_count": null,
   "metadata": {},
   "outputs": [],
   "source": []
  }
 ],
 "metadata": {
  "kernelspec": {
   "display_name": "Python 3",
   "language": "python",
   "name": "python3"
  },
  "language_info": {
   "codemirror_mode": {
    "name": "ipython",
    "version": 3
   },
   "file_extension": ".py",
   "mimetype": "text/x-python",
   "name": "python",
   "nbconvert_exporter": "python",
   "pygments_lexer": "ipython3",
   "version": "3.6.4"
  },
  "varInspector": {
   "cols": {
    "lenName": 16,
    "lenType": 16,
    "lenVar": 40
   },
   "kernels_config": {
    "python": {
     "delete_cmd_postfix": "",
     "delete_cmd_prefix": "del ",
     "library": "var_list.py",
     "varRefreshCmd": "print(var_dic_list())"
    },
    "r": {
     "delete_cmd_postfix": ") ",
     "delete_cmd_prefix": "rm(",
     "library": "var_list.r",
     "varRefreshCmd": "cat(var_dic_list()) "
    }
   },
   "types_to_exclude": [
    "module",
    "function",
    "builtin_function_or_method",
    "instance",
    "_Feature"
   ],
   "window_display": false
  }
 },
 "nbformat": 4,
 "nbformat_minor": 2
}
