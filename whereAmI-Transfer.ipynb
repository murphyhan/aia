{
 "cells": [
  {
   "cell_type": "code",
   "execution_count": 1,
   "metadata": {},
   "outputs": [],
   "source": [
    "import numpy as np\n",
    "import pandas as pd\n",
    "\n",
    "path = '/data/examples/may_the_4_be_with_u/where_am_i/'\n",
    "#path = 'D:\\\\AI\\\\where_am_i\\\\'\n",
    "\n",
    "#TransferLearning開關\n",
    "isTransferLearning = True\n",
    "\n",
    "#input img size, 根據base_model調整圖片size\n",
    "resize = (224, 224)\n",
    "\n",
    "#output labels\n",
    "num_classes = 15\n"
   ]
  },
  {
   "cell_type": "markdown",
   "metadata": {},
   "source": [
    "<h2>prepare data!</h2>"
   ]
  },
  {
   "cell_type": "code",
   "execution_count": 2,
   "metadata": {},
   "outputs": [
    {
     "name": "stdout",
     "output_type": "stream",
     "text": [
      "15 {'CALsuburb': 9, 'PARoffice': 7, 'bedroom': 12, 'coast': 10, 'forest': 4, 'highway': 14, 'industrial': 2, 'insidecity': 3, 'kitchen': 0, 'livingroom': 5, 'mountain': 8, 'opencountry': 6, 'store': 11, 'street': 1, 'tallbuilding': 13}\n"
     ]
    }
   ],
   "source": [
    "\n",
    "# make a label map\n",
    "df = pd.read_csv(path + 'mapping.txt', header=None)\n",
    "yMap = dict(zip(df[0], df[1]))\n",
    "print(len(yMap), yMap)\n"
   ]
  },
  {
   "cell_type": "code",
   "execution_count": 3,
   "metadata": {},
   "outputs": [
    {
     "name": "stdout",
     "output_type": "stream",
     "text": [
      "/data/examples/may_the_4_be_with_u/where_am_i/train/CALsuburb/image_0001.jpg\n",
      "/data/examples/may_the_4_be_with_u/where_am_i/train/PARoffice/image_0001.jpg\n",
      "/data/examples/may_the_4_be_with_u/where_am_i/train/bedroom/image_0001.jpg\n",
      "/data/examples/may_the_4_be_with_u/where_am_i/train/coast/image_0001.jpg\n",
      "/data/examples/may_the_4_be_with_u/where_am_i/train/forest/image_0001.jpg\n",
      "/data/examples/may_the_4_be_with_u/where_am_i/train/highway/image_0001.jpg\n",
      "/data/examples/may_the_4_be_with_u/where_am_i/train/industrial/image_0001.jpg\n",
      "/data/examples/may_the_4_be_with_u/where_am_i/train/insidecity/image_0001.jpg\n",
      "/data/examples/may_the_4_be_with_u/where_am_i/train/kitchen/image_0001.jpg\n",
      "/data/examples/may_the_4_be_with_u/where_am_i/train/livingroom/image_0001.jpg\n",
      "/data/examples/may_the_4_be_with_u/where_am_i/train/mountain/image_0001.jpg\n",
      "/data/examples/may_the_4_be_with_u/where_am_i/train/opencountry/image_0001.jpg\n",
      "/data/examples/may_the_4_be_with_u/where_am_i/train/store/image_0001.jpg\n",
      "/data/examples/may_the_4_be_with_u/where_am_i/train/street/image_0001.jpg\n",
      "/data/examples/may_the_4_be_with_u/where_am_i/train/tallbuilding/image_0001.jpg\n"
     ]
    }
   ],
   "source": [
    "import os\n",
    "\n",
    "# show file structure\n",
    "for dirname, dirnames, filenames in os.walk(path+'train'):    \n",
    "    for filename in filenames:\n",
    "        print(os.path.join(dirname, filename))\n",
    "        break"
   ]
  },
  {
   "cell_type": "code",
   "execution_count": 4,
   "metadata": {},
   "outputs": [
    {
     "name": "stdout",
     "output_type": "stream",
     "text": [
      "(2985, 4)\n"
     ]
    },
    {
     "data": {
      "text/html": [
       "<div>\n",
       "<style scoped>\n",
       "    .dataframe tbody tr th:only-of-type {\n",
       "        vertical-align: middle;\n",
       "    }\n",
       "\n",
       "    .dataframe tbody tr th {\n",
       "        vertical-align: top;\n",
       "    }\n",
       "\n",
       "    .dataframe thead th {\n",
       "        text-align: right;\n",
       "    }\n",
       "</style>\n",
       "<table border=\"1\" class=\"dataframe\">\n",
       "  <thead>\n",
       "    <tr style=\"text-align: right;\">\n",
       "      <th></th>\n",
       "      <th>label</th>\n",
       "      <th>folder</th>\n",
       "      <th>file</th>\n",
       "      <th>path</th>\n",
       "    </tr>\n",
       "  </thead>\n",
       "  <tbody>\n",
       "    <tr>\n",
       "      <th>0</th>\n",
       "      <td>9</td>\n",
       "      <td>CALsuburb</td>\n",
       "      <td>image_0001.jpg</td>\n",
       "      <td>/data/examples/may_the_4_be_with_u/where_am_i/...</td>\n",
       "    </tr>\n",
       "    <tr>\n",
       "      <th>1</th>\n",
       "      <td>9</td>\n",
       "      <td>CALsuburb</td>\n",
       "      <td>image_0002.jpg</td>\n",
       "      <td>/data/examples/may_the_4_be_with_u/where_am_i/...</td>\n",
       "    </tr>\n",
       "    <tr>\n",
       "      <th>2</th>\n",
       "      <td>9</td>\n",
       "      <td>CALsuburb</td>\n",
       "      <td>image_0003.jpg</td>\n",
       "      <td>/data/examples/may_the_4_be_with_u/where_am_i/...</td>\n",
       "    </tr>\n",
       "    <tr>\n",
       "      <th>3</th>\n",
       "      <td>9</td>\n",
       "      <td>CALsuburb</td>\n",
       "      <td>image_0004.jpg</td>\n",
       "      <td>/data/examples/may_the_4_be_with_u/where_am_i/...</td>\n",
       "    </tr>\n",
       "    <tr>\n",
       "      <th>4</th>\n",
       "      <td>9</td>\n",
       "      <td>CALsuburb</td>\n",
       "      <td>image_0005.jpg</td>\n",
       "      <td>/data/examples/may_the_4_be_with_u/where_am_i/...</td>\n",
       "    </tr>\n",
       "  </tbody>\n",
       "</table>\n",
       "</div>"
      ],
      "text/plain": [
       "   label     folder            file  \\\n",
       "0      9  CALsuburb  image_0001.jpg   \n",
       "1      9  CALsuburb  image_0002.jpg   \n",
       "2      9  CALsuburb  image_0003.jpg   \n",
       "3      9  CALsuburb  image_0004.jpg   \n",
       "4      9  CALsuburb  image_0005.jpg   \n",
       "\n",
       "                                                path  \n",
       "0  /data/examples/may_the_4_be_with_u/where_am_i/...  \n",
       "1  /data/examples/may_the_4_be_with_u/where_am_i/...  \n",
       "2  /data/examples/may_the_4_be_with_u/where_am_i/...  \n",
       "3  /data/examples/may_the_4_be_with_u/where_am_i/...  \n",
       "4  /data/examples/may_the_4_be_with_u/where_am_i/...  "
      ]
     },
     "execution_count": 4,
     "metadata": {},
     "output_type": "execute_result"
    }
   ],
   "source": [
    "import os\n",
    "import pandas as pd\n",
    "\n",
    "#make a image table\n",
    "trainList = []\n",
    "for dirname, dirnames, filenames in os.walk(path+'train'):    \n",
    "    for filename in filenames:\n",
    "        folderName = os.path.split(dirname)[-1]\n",
    "        #print(os.path.join(dirname, filename), folderName)        \n",
    "        row = []\n",
    "        row.append(yMap[folderName])\n",
    "        row.append(folderName)\n",
    "        row.append(filename)\n",
    "        row.append(os.path.join(dirname, filename))\n",
    "        trainList.append(row)        \n",
    "        \n",
    "trainDf = pd.DataFrame(trainList, columns=['label','folder','file','path'])          \n",
    "print(trainDf.shape)\n",
    "trainDf.head()"
   ]
  },
  {
   "cell_type": "code",
   "execution_count": 5,
   "metadata": {},
   "outputs": [
    {
     "name": "stdout",
     "output_type": "stream",
     "text": [
      "img.shape (220, 330, 3)\n",
      "img.shape (224, 224, 3)\n",
      "color dim: [48 48 48]\n"
     ]
    },
    {
     "data": {
      "image/png": "[encoded data removed]",
      "text/plain": [
       "<Figure size 432x288 with 1 Axes>"
      ]
     },
     "metadata": {},
     "output_type": "display_data"
    }
   ],
   "source": [
    "#test img\n",
    "\n",
    "import cv2\n",
    "%matplotlib inline\n",
    "import matplotlib.pyplot as plt\n",
    "\n",
    "img = cv2.imread(trainDf['path'][0])\n",
    "print('img.shape',img.shape)\n",
    "\n",
    "img = cv2.resize(img, resize)\n",
    "plt.imshow(img) #, cmap='gray'\n",
    "print('img.shape',img.shape)\n",
    "print('color dim:',img[0][0])\n"
   ]
  },
  {
   "cell_type": "code",
   "execution_count": 6,
   "metadata": {},
   "outputs": [],
   "source": [
    "#圖檔變數值資料\n",
    "def getXData(dataFrame):\n",
    "    X = np.array([cv2.resize(cv2.imread(file), resize).astype(np.float32) for file in dataFrame['path']])\n",
    "    print('X.shape', X.shape)\n",
    "    print(X[0][0][0])\n",
    "    if isTransferLearning:\n",
    "        X[:,:,:,0] = (X[:,:,:,0] - 103.94) * 0.017\n",
    "        X[:,:,:,1] = (X[:,:,:,1] - 116.78) * 0.017\n",
    "        X[:,:,:,2] = (X[:,:,:,2] - 123.68) * 0.017\n",
    "    else:\n",
    "        X /= 255.\n",
    "    \n",
    "    print(X[0][0][0])\n",
    "    return X"
   ]
  },
  {
   "cell_type": "code",
   "execution_count": 7,
   "metadata": {},
   "outputs": [
    {
     "name": "stderr",
     "output_type": "stream",
     "text": [
      "Using TensorFlow backend.\n"
     ]
    },
    {
     "name": "stdout",
     "output_type": "stream",
     "text": [
      "X.shape (2985, 224, 224, 3)\n",
      "[ 48.  48.  48.]\n",
      "[-0.95098007 -1.16926003 -1.28656006]\n",
      "(2985, 15)\n",
      "[ 0.  0.  0.  0.  0.  0.  0.  0.  0.  1.  0.  0.  0.  0.  0.]\n"
     ]
    }
   ],
   "source": [
    "import keras\n",
    "\n",
    "#圖片變數值資料\n",
    "X = getXData(trainDf)\n",
    "\n",
    "#one hot encoding Y\n",
    "label = keras.utils.to_categorical(trainDf['label'], num_classes)\n",
    "\n",
    "print(label.shape)\n",
    "print(label[0])"
   ]
  },
  {
   "cell_type": "code",
   "execution_count": 8,
   "metadata": {},
   "outputs": [
    {
     "name": "stdout",
     "output_type": "stream",
     "text": [
      "(2388, 224, 224, 3) (2388, 15) (597, 224, 224, 3) (597, 15)\n",
      "[-0.91698009 -1.13525999 -1.25256002]\n",
      "[[ 0.  0.  0.  1.  0.  0.  0.  0.  0.  0.  0.  0.  0.  0.  0.]\n",
      " [ 0.  0.  0.  0.  0.  0.  0.  0.  1.  0.  0.  0.  0.  0.  0.]\n",
      " [ 1.  0.  0.  0.  0.  0.  0.  0.  0.  0.  0.  0.  0.  0.  0.]\n",
      " [ 1.  0.  0.  0.  0.  0.  0.  0.  0.  0.  0.  0.  0.  0.  0.]\n",
      " [ 0.  0.  0.  0.  1.  0.  0.  0.  0.  0.  0.  0.  0.  0.  0.]]\n",
      "(224, 224, 3)\n"
     ]
    }
   ],
   "source": [
    "from sklearn.model_selection import train_test_split\n",
    "\n",
    "x_train, x_test, y_train, y_test = train_test_split(\n",
    "    X, label, test_size=0.2) #default就會shuffle, 不用random_state=42\n",
    "\n",
    "print(x_train.shape, y_train.shape,x_test.shape, y_test.shape)\n",
    "print(x_train[0][0][0])\n",
    "print(y_train[0:5])\n",
    "print(x_train[0].shape)"
   ]
  },
  {
   "cell_type": "markdown",
   "metadata": {},
   "source": [
    "<h2>build model!</h2>\n",
    "model參考 https://github.com/keras-team/keras/blob/master/examples/cifar10_cnn.py\n",
    "\n",
    "DenseNet-Keras: https://github.com/flyyufelix/DenseNet-Keras/blob/master/test_inference.py"
   ]
  },
  {
   "cell_type": "code",
   "execution_count": 9,
   "metadata": {},
   "outputs": [],
   "source": [
    "import keras\n",
    "from keras.preprocessing.image import ImageDataGenerator\n",
    "from keras.models import Sequential, load_model, Model\n",
    "from keras.layers import Dense, Dropout, Activation, Flatten, BatchNormalization, GlobalAveragePooling2D\n",
    "from keras.layers import Conv2D, MaxPooling2D\n",
    "from keras.callbacks import EarlyStopping, ModelCheckpoint\n",
    "\n",
    "import matplotlib.pyplot as plt\n",
    "import os\n",
    "\n",
    "if isTransferLearning:\n",
    "    #(224, 224)\n",
    "    #base_model = keras.applications.mobilenetv2.MobileNetV2(input_shape=x_train[0].shape, alpha=1.0, depth_multiplier=1, include_top=False, weights='imagenet')    \n",
    "    base_model = keras.applications.densenet.DenseNet121(include_top=False, weights='imagenet', input_shape=x_train[0].shape)    \n",
    "    #base_model = keras.applications.densenet.DenseNet201(weights='imagenet', include_top=False, input_shape=x_train[0].shape)\n",
    "    #base_model = keras.applications.resnet50.ResNet50(include_top=False, weights='imagenet', input_shape=x_train[0].shape)\n",
    "    #(299, 299)\n",
    "    #base_model = keras.applications.inception_resnet_v2.InceptionResNetV2(include_top=False, weights='imagenet', input_shape=x_train[0].shape)\n",
    "  \n",
    "\n",
    "    # add a global spatial average pooling layer\n",
    "    x = base_model.output\n",
    "    x = GlobalAveragePooling2D(data_format='channels_last')(x)\n",
    "    x = Dropout(0.5)(x)\n",
    "\n",
    "    # let's add a fully-connected layer\n",
    "    #x = Dense(1024, activation='relu')(x)\n",
    "    # and a logistic layer \n",
    "    predictions = Dense(num_classes, activation='softmax')(x)\n",
    "\n",
    "    # this is the model we will train\n",
    "    model = Model(inputs=base_model.input, outputs=predictions)\n",
    "   \n",
    "    layerTransfer = False\n",
    "    if layerTransfer:    \n",
    "        #前面layer固定不train\n",
    "        for layer in base_model.layers[0:-6]:\n",
    "            layer.trainable = False\n",
    "else:    \n",
    "    # build our CNN model\n",
    "    model = Sequential()\n",
    "    model.add(Conv2D(32, (3, 3), padding='same',\n",
    "                     input_shape=x_train[0].shape))\n",
    "    model.add(Activation('relu'))\n",
    "    model.add(Conv2D(32, (3, 3)))\n",
    "    model.add(Activation('relu'))\n",
    "    model.add(MaxPooling2D(pool_size=(2, 2)))\n",
    "    model.add(Dropout(0.25))\n",
    "\n",
    "    model.add(Conv2D(64, (3, 3), padding='same'))\n",
    "    model.add(Activation('relu'))\n",
    "\n",
    "    model.add(MaxPooling2D(pool_size=(2, 2)))\n",
    "    model.add(Dropout(0.25))\n",
    "\n",
    "    model.add(Flatten())\n",
    "    model.add(Dense(256))\n",
    "    model.add(Activation('relu'))\n",
    "    model.add(Dropout(0.5))\n",
    "    model.add(Dense(num_classes))\n",
    "    model.add(Activation('softmax'))\n",
    "\n"
   ]
  },
  {
   "cell_type": "code",
   "execution_count": 10,
   "metadata": {},
   "outputs": [
    {
     "name": "stdout",
     "output_type": "stream",
     "text": [
      "429\n"
     ]
    }
   ],
   "source": [
    "#print(model.summary())\n",
    "print(len(model.layers))"
   ]
  },
  {
   "cell_type": "code",
   "execution_count": 11,
   "metadata": {},
   "outputs": [
    {
     "name": "stdout",
     "output_type": "stream",
     "text": [
      "Total params: 7,052,879\n",
      "Trainable params: 6,969,231\n",
      "Non-trainable params: 83,648\n"
     ]
    }
   ],
   "source": [
    "from keras import backend as K\n",
    "\n",
    "trainable_count = int(\n",
    "    np.sum([K.count_params(p) for p in set(model.trainable_weights)]))\n",
    "non_trainable_count = int(\n",
    "    np.sum([K.count_params(p) for p in set(model.non_trainable_weights)]))\n",
    "\n",
    "print('Total params: {:,}'.format(trainable_count + non_trainable_count))\n",
    "print('Trainable params: {:,}'.format(trainable_count))\n",
    "print('Non-trainable params: {:,}'.format(non_trainable_count))"
   ]
  },
  {
   "cell_type": "code",
   "execution_count": 12,
   "metadata": {},
   "outputs": [],
   "source": [
    "\n",
    "#opt = keras.optimizers.Adam()\n",
    "opt = keras.optimizers.Adam(lr=10e-6) #10e-6 = 0.00001\n",
    "#opt = keras.optimizers.rmsprop(lr=0.0001, decay=1e-6)\n",
    "#opt = keras.optimizers.SGD(lr=1e-2, decay=1e-6, momentum=0.9, nesterov=True)\n",
    "\n",
    "model.compile(loss='categorical_crossentropy',\n",
    "              optimizer=opt,\n",
    "              metrics=['accuracy'])\n",
    "\n"
   ]
  },
  {
   "cell_type": "markdown",
   "metadata": {},
   "source": [
    "<h2>start training!</h2>"
   ]
  },
  {
   "cell_type": "code",
   "execution_count": 13,
   "metadata": {},
   "outputs": [
    {
     "name": "stdout",
     "output_type": "stream",
     "text": [
      "(2388, 224, 224, 3) (2388, 15) (597, 224, 224, 3) (597, 15)\n",
      "Using real-time data augmentation.\n",
      "/home/jovyan/murphy/where_am_i/saved_models\n",
      "Epoch 1/100\n",
      "150/150 [==============================] - 88s 588ms/step - loss: 2.8646 - acc: 0.1646 - val_loss: 1.7511 - val_acc: 0.4791\n",
      "Epoch 2/100\n",
      "150/150 [==============================] - 33s 220ms/step - loss: 1.9306 - acc: 0.3913 - val_loss: 1.1000 - val_acc: 0.6901\n",
      "Epoch 3/100\n",
      "150/150 [==============================] - 33s 222ms/step - loss: 1.4561 - acc: 0.5263 - val_loss: 0.7684 - val_acc: 0.7973\n",
      "Epoch 4/100\n",
      "150/150 [==============================] - 33s 221ms/step - loss: 1.1527 - acc: 0.6262 - val_loss: 0.5936 - val_acc: 0.8325\n",
      "Epoch 5/100\n",
      "150/150 [==============================] - 33s 221ms/step - loss: 0.9361 - acc: 0.6983 - val_loss: 0.4769 - val_acc: 0.8811\n",
      "Epoch 6/100\n",
      "150/150 [==============================] - 33s 223ms/step - loss: 0.7940 - acc: 0.7375 - val_loss: 0.4143 - val_acc: 0.8794\n",
      "Epoch 7/100\n",
      "150/150 [==============================] - 34s 224ms/step - loss: 0.7105 - acc: 0.7596 - val_loss: 0.3617 - val_acc: 0.8995\n",
      "Epoch 8/100\n",
      "150/150 [==============================] - 33s 223ms/step - loss: 0.6615 - acc: 0.7783 - val_loss: 0.3183 - val_acc: 0.9062\n",
      "Epoch 9/100\n",
      "150/150 [==============================] - 33s 223ms/step - loss: 0.5871 - acc: 0.8000 - val_loss: 0.3027 - val_acc: 0.9112\n",
      "Epoch 10/100\n",
      "150/150 [==============================] - 33s 222ms/step - loss: 0.5265 - acc: 0.8221 - val_loss: 0.2897 - val_acc: 0.9162\n",
      "Epoch 11/100\n",
      "150/150 [==============================] - 33s 223ms/step - loss: 0.5128 - acc: 0.8300 - val_loss: 0.2701 - val_acc: 0.9162\n",
      "Epoch 12/100\n",
      "150/150 [==============================] - 33s 223ms/step - loss: 0.4537 - acc: 0.8542 - val_loss: 0.2523 - val_acc: 0.9196\n",
      "Epoch 13/100\n",
      "150/150 [==============================] - 33s 223ms/step - loss: 0.4296 - acc: 0.8571 - val_loss: 0.2444 - val_acc: 0.9213\n",
      "Epoch 14/100\n",
      "150/150 [==============================] - 34s 224ms/step - loss: 0.4326 - acc: 0.8550 - val_loss: 0.2374 - val_acc: 0.9196\n",
      "Epoch 15/100\n",
      "150/150 [==============================] - 33s 223ms/step - loss: 0.3792 - acc: 0.8783 - val_loss: 0.2263 - val_acc: 0.9229\n",
      "Epoch 16/100\n",
      "150/150 [==============================] - 34s 224ms/step - loss: 0.3801 - acc: 0.8771 - val_loss: 0.2231 - val_acc: 0.9280\n",
      "Epoch 17/100\n",
      "150/150 [==============================] - 33s 221ms/step - loss: 0.3370 - acc: 0.8888 - val_loss: 0.2214 - val_acc: 0.9313\n",
      "Epoch 18/100\n",
      "150/150 [==============================] - 34s 224ms/step - loss: 0.3012 - acc: 0.9021 - val_loss: 0.2115 - val_acc: 0.9363\n",
      "Epoch 19/100\n",
      "150/150 [==============================] - 32s 214ms/step - loss: 0.3087 - acc: 0.8946 - val_loss: 0.2129 - val_acc: 0.9347\n",
      "Epoch 20/100\n",
      "150/150 [==============================] - 33s 223ms/step - loss: 0.2925 - acc: 0.9100 - val_loss: 0.2030 - val_acc: 0.9430\n",
      "Epoch 21/100\n",
      "150/150 [==============================] - 32s 213ms/step - loss: 0.2810 - acc: 0.9075 - val_loss: 0.2063 - val_acc: 0.9397\n",
      "Epoch 22/100\n",
      "150/150 [==============================] - 33s 222ms/step - loss: 0.2756 - acc: 0.9150 - val_loss: 0.1998 - val_acc: 0.9414\n",
      "Epoch 23/100\n",
      "150/150 [==============================] - 33s 221ms/step - loss: 0.2556 - acc: 0.9171 - val_loss: 0.1993 - val_acc: 0.9313\n",
      "Epoch 24/100\n",
      "150/150 [==============================] - 32s 213ms/step - loss: 0.2343 - acc: 0.9279 - val_loss: 0.2041 - val_acc: 0.9397\n",
      "Epoch 25/100\n",
      "150/150 [==============================] - 33s 221ms/step - loss: 0.2047 - acc: 0.9379 - val_loss: 0.1972 - val_acc: 0.9313\n",
      "Epoch 26/100\n",
      "150/150 [==============================] - 32s 212ms/step - loss: 0.2039 - acc: 0.9325 - val_loss: 0.1980 - val_acc: 0.9380\n",
      "Epoch 27/100\n",
      "150/150 [==============================] - 33s 221ms/step - loss: 0.1955 - acc: 0.9383 - val_loss: 0.1937 - val_acc: 0.9397\n",
      "Epoch 28/100\n",
      "150/150 [==============================] - 33s 219ms/step - loss: 0.2010 - acc: 0.9300 - val_loss: 0.1909 - val_acc: 0.9414\n",
      "Epoch 29/100\n",
      "150/150 [==============================] - 32s 212ms/step - loss: 0.1886 - acc: 0.9392 - val_loss: 0.1933 - val_acc: 0.9447\n",
      "Epoch 30/100\n",
      "150/150 [==============================] - 33s 222ms/step - loss: 0.1687 - acc: 0.9412 - val_loss: 0.1859 - val_acc: 0.9481\n",
      "Epoch 31/100\n",
      "150/150 [==============================] - 32s 213ms/step - loss: 0.1747 - acc: 0.9471 - val_loss: 0.1901 - val_acc: 0.9481\n",
      "Epoch 32/100\n",
      "150/150 [==============================] - 33s 220ms/step - loss: 0.1628 - acc: 0.9467 - val_loss: 0.1766 - val_acc: 0.9464\n",
      "Epoch 33/100\n",
      "150/150 [==============================] - 32s 213ms/step - loss: 0.1542 - acc: 0.9504 - val_loss: 0.1867 - val_acc: 0.9447\n",
      "Epoch 34/100\n",
      "150/150 [==============================] - 32s 213ms/step - loss: 0.1414 - acc: 0.9579 - val_loss: 0.1884 - val_acc: 0.9514\n",
      "Epoch 35/100\n",
      "150/150 [==============================] - 32s 212ms/step - loss: 0.1221 - acc: 0.9662 - val_loss: 0.1841 - val_acc: 0.9397\n",
      "Epoch 36/100\n",
      "150/150 [==============================] - 32s 214ms/step - loss: 0.1603 - acc: 0.9496 - val_loss: 0.2012 - val_acc: 0.9363\n",
      "Epoch 37/100\n",
      "150/150 [==============================] - 32s 215ms/step - loss: 0.1359 - acc: 0.9596 - val_loss: 0.1941 - val_acc: 0.9414\n",
      "Loading trained model  /home/jovyan/murphy/where_am_i/saved_models/keras_trained_model.h5\n",
      "597/597 [==============================] - 3s 4ms/step\n",
      "Test loss: 0.194077212332\n",
      "Test accuracy: 0.941373534438\n",
      "modelBest <keras.engine.training.Model object at 0x7ff0167f0828>\n",
      "597/597 [==============================] - 5s 8ms/step\n",
      "modelBest loss: 0.176621592636\n",
      "modelBest accuracy: 0.946398659966\n"
     ]
    }
   ],
   "source": [
    "\n",
    "print(x_train.shape, y_train.shape,x_test.shape, y_test.shape)\n",
    "\n",
    "print('Using real-time data augmentation.')\n",
    "# This will do preprocessing and realtime data augmentation:\n",
    "datagen = ImageDataGenerator(\n",
    "    rotation_range=10,\n",
    "    width_shift_range=0.2,\n",
    "    height_shift_range=0.2,\n",
    "    shear_range=0.2,\n",
    "    zoom_range=0.2,\n",
    "    horizontal_flip=True,\n",
    "    fill_mode='nearest')\n",
    "\n",
    "datagen.fit(x_train)\n",
    "\n",
    "\n",
    "# Use ModelCheckpoint to save model and weights\n",
    "save_dir = os.path.join(os.getcwd(), 'saved_models')\n",
    "model_name = 'keras_trained_model.h5'\n",
    "print(save_dir)\n",
    "if not os.path.isdir(save_dir):\n",
    "    os.makedirs(save_dir)\n",
    "model_path = os.path.join(save_dir, model_name)\n",
    "checkpoint = ModelCheckpoint(model_path, monitor='val_loss', save_best_only=True, verbose=0)\n",
    "\n",
    "# earlystop\n",
    "earlystop = EarlyStopping(monitor='val_loss', patience=5, verbose=0)\n",
    "\n",
    "\n",
    "batch_size = 16 #x_train.size / batch_size 就是每次epoch要跑的次數\n",
    "epochs = 100\n",
    "\n",
    "model_history = model.fit_generator(datagen.flow(x_train, y_train,\n",
    "                             batch_size=batch_size),\n",
    "                epochs=epochs,\n",
    "                validation_data=(x_test, y_test),\n",
    "                workers=4,\n",
    "                callbacks=[earlystop, checkpoint])\n",
    "\n",
    "# loading our save model\n",
    "print(\"Loading trained model \", model_path)\n",
    "modelBest = load_model(model_path)\n",
    "\n",
    "\n",
    "# Score trained model.\n",
    "scores = model.evaluate(x_test, y_test, verbose=1)\n",
    "print('Test loss:', scores[0])\n",
    "print('Test accuracy:', scores[1])\n",
    "\n",
    "\n",
    "if modelBest is not None:\n",
    "    print('modelBest',modelBest)\n",
    "    scores = modelBest.evaluate(x_test, y_test, verbose=1)\n",
    "    print('modelBest loss:', scores[0])\n",
    "    print('modelBest accuracy:', scores[1])\n",
    "    model = modelBest\n",
    "\n",
    "    \n",
    "    "
   ]
  },
  {
   "cell_type": "code",
   "execution_count": 14,
   "metadata": {},
   "outputs": [
    {
     "data": {
      "image/png": "[encoded data removed]",
      "text/plain": [
       "<Figure size 432x288 with 1 Axes>"
      ]
     },
     "metadata": {},
     "output_type": "display_data"
    }
   ],
   "source": [
    "acc = model_history.history['acc']\n",
    "val_acc = model_history.history['val_acc']\n",
    "\n",
    "plt.plot(acc, label=\"acc\")\n",
    "plt.plot(val_acc, label=\"val_acc\")\n",
    "plt.xlabel(\"Epochs\")\n",
    "plt.ylabel(\"Acc\")\n",
    "plt.title(\"Learning Curve\")\n",
    "plt.legend(loc='best')\n",
    "plt.show()"
   ]
  },
  {
   "cell_type": "code",
   "execution_count": 15,
   "metadata": {},
   "outputs": [
    {
     "data": {
      "image/png": "[encoded data removed]",
      "text/plain": [
       "<Figure size 432x288 with 1 Axes>"
      ]
     },
     "metadata": {},
     "output_type": "display_data"
    }
   ],
   "source": [
    "training_loss = model_history.history['loss']\n",
    "val_loss = model_history.history['val_loss']\n",
    "\n",
    "plt.plot(training_loss, label=\"training_loss\")\n",
    "plt.plot(val_loss, label=\"validation_loss\")\n",
    "plt.xlabel(\"Epochs\")\n",
    "plt.ylabel(\"Loss\")\n",
    "plt.title(\"Learning Curve\")\n",
    "plt.legend(loc='best')\n",
    "plt.show()"
   ]
  },
  {
   "cell_type": "markdown",
   "metadata": {},
   "source": [
    "<h2>start predict!</h2>"
   ]
  },
  {
   "cell_type": "code",
   "execution_count": 16,
   "metadata": {},
   "outputs": [
    {
     "name": "stdout",
     "output_type": "stream",
     "text": [
      "(1500, 2) 001d4c8d70ebf7f025fccf256324d3d5ad3560faee1cdf8c7115f5eb033bc3d2 /data/examples/may_the_4_be_with_u/where_am_i/testset/001d4c8d70ebf7f025fccf256324d3d5ad3560faee1cdf8c7115f5eb033bc3d2.jpg\n"
     ]
    }
   ],
   "source": [
    "# make test data\n",
    "import os\n",
    "import pandas as pd\n",
    "\n",
    "testList = []\n",
    "for dirname, dirnames, filenames in os.walk(path+'testset'):    \n",
    "    for filename in filenames:\n",
    "        row = []\n",
    "        row.append(filename.replace('.jpg',''))\n",
    "        row.append(os.path.join(dirname, filename))\n",
    "        testList.append(row)\n",
    "        \n",
    "testDf = pd.DataFrame(testList, columns=['id','path'])        \n",
    "  \n",
    "print(testDf.shape, testDf.iloc[0,0], testDf.iloc[0,1])"
   ]
  },
  {
   "cell_type": "code",
   "execution_count": 17,
   "metadata": {},
   "outputs": [
    {
     "data": {
      "text/html": [
       "<div>\n",
       "<style scoped>\n",
       "    .dataframe tbody tr th:only-of-type {\n",
       "        vertical-align: middle;\n",
       "    }\n",
       "\n",
       "    .dataframe tbody tr th {\n",
       "        vertical-align: top;\n",
       "    }\n",
       "\n",
       "    .dataframe thead th {\n",
       "        text-align: right;\n",
       "    }\n",
       "</style>\n",
       "<table border=\"1\" class=\"dataframe\">\n",
       "  <thead>\n",
       "    <tr style=\"text-align: right;\">\n",
       "      <th></th>\n",
       "      <th>id</th>\n",
       "      <th>path</th>\n",
       "    </tr>\n",
       "  </thead>\n",
       "  <tbody>\n",
       "    <tr>\n",
       "      <th>0</th>\n",
       "      <td>001d4c8d70ebf7f025fccf256324d3d5ad3560faee1cdf...</td>\n",
       "      <td>/data/examples/may_the_4_be_with_u/where_am_i/...</td>\n",
       "    </tr>\n",
       "    <tr>\n",
       "      <th>1</th>\n",
       "      <td>00317b9d4bed4a2b1017e2bd31b9bf2f25bad05a65f570...</td>\n",
       "      <td>/data/examples/may_the_4_be_with_u/where_am_i/...</td>\n",
       "    </tr>\n",
       "    <tr>\n",
       "      <th>2</th>\n",
       "      <td>003d15d71c1514af5bb8734a96bae2c4d1ce299da8d369...</td>\n",
       "      <td>/data/examples/may_the_4_be_with_u/where_am_i/...</td>\n",
       "    </tr>\n",
       "    <tr>\n",
       "      <th>3</th>\n",
       "      <td>013c78d920be5390dbc66ca238ae3f49a2b0cf13e36013...</td>\n",
       "      <td>/data/examples/may_the_4_be_with_u/where_am_i/...</td>\n",
       "    </tr>\n",
       "    <tr>\n",
       "      <th>4</th>\n",
       "      <td>0175d5cda7ae5f6767187eef4bc29e0be62a5506acfdcf...</td>\n",
       "      <td>/data/examples/may_the_4_be_with_u/where_am_i/...</td>\n",
       "    </tr>\n",
       "  </tbody>\n",
       "</table>\n",
       "</div>"
      ],
      "text/plain": [
       "                                                  id  \\\n",
       "0  001d4c8d70ebf7f025fccf256324d3d5ad3560faee1cdf...   \n",
       "1  00317b9d4bed4a2b1017e2bd31b9bf2f25bad05a65f570...   \n",
       "2  003d15d71c1514af5bb8734a96bae2c4d1ce299da8d369...   \n",
       "3  013c78d920be5390dbc66ca238ae3f49a2b0cf13e36013...   \n",
       "4  0175d5cda7ae5f6767187eef4bc29e0be62a5506acfdcf...   \n",
       "\n",
       "                                                path  \n",
       "0  /data/examples/may_the_4_be_with_u/where_am_i/...  \n",
       "1  /data/examples/may_the_4_be_with_u/where_am_i/...  \n",
       "2  /data/examples/may_the_4_be_with_u/where_am_i/...  \n",
       "3  /data/examples/may_the_4_be_with_u/where_am_i/...  \n",
       "4  /data/examples/may_the_4_be_with_u/where_am_i/...  "
      ]
     },
     "execution_count": 17,
     "metadata": {},
     "output_type": "execute_result"
    }
   ],
   "source": [
    "testDf.head()"
   ]
  },
  {
   "cell_type": "code",
   "execution_count": 18,
   "metadata": {},
   "outputs": [
    {
     "name": "stdout",
     "output_type": "stream",
     "text": [
      "X.shape (1500, 224, 224, 3)\n",
      "[ 253.  253.  253.]\n",
      "[ 2.53402019  2.31574011  2.19844031]\n",
      "(1500,)\n"
     ]
    }
   ],
   "source": [
    "\n",
    "imgTest = getXData(testDf)    \n",
    "\n",
    "if isTransferLearning:\n",
    "    y_test_pred_prob = model.predict(imgTest)\n",
    "    y_pred = y_test_pred_prob.argmax(axis=-1)\n",
    "else:\n",
    "    y_pred=model.predict_classes(imgTest)\n",
    "\n",
    "\n",
    "print(y_pred.shape)"
   ]
  },
  {
   "cell_type": "code",
   "execution_count": 19,
   "metadata": {},
   "outputs": [
    {
     "name": "stdout",
     "output_type": "stream",
     "text": [
      "(1500, 2)\n"
     ]
    }
   ],
   "source": [
    "# output result\n",
    "out = pd.DataFrame()\n",
    "out['id'] = testDf['id']\n",
    "out['class'] = y_pred\n",
    "print(out.shape)\n",
    "out.to_csv('submit.csv',index=False)"
   ]
  },
  {
   "cell_type": "code",
   "execution_count": null,
   "metadata": {},
   "outputs": [],
   "source": []
  },
  {
   "cell_type": "code",
   "execution_count": null,
   "metadata": {},
   "outputs": [],
   "source": []
  }
 ],
 "metadata": {
  "kernelspec": {
   "display_name": "Python 3",
   "language": "python",
   "name": "python3"
  },
  "language_info": {
   "codemirror_mode": {
    "name": "ipython",
    "version": 3
   },
   "file_extension": ".py",
   "mimetype": "text/x-python",
   "name": "python",
   "nbconvert_exporter": "python",
   "pygments_lexer": "ipython3",
   "version": "3.6.4"
  },
  "varInspector": {
   "cols": {
    "lenName": 16,
    "lenType": 16,
    "lenVar": 40
   },
   "kernels_config": {
    "python": {
     "delete_cmd_postfix": "",
     "delete_cmd_prefix": "del ",
     "library": "var_list.py",
     "varRefreshCmd": "print(var_dic_list())"
    },
    "r": {
     "delete_cmd_postfix": ") ",
     "delete_cmd_prefix": "rm(",
     "library": "var_list.r",
     "varRefreshCmd": "cat(var_dic_list()) "
    }
   },
   "types_to_exclude": [
    "module",
    "function",
    "builtin_function_or_method",
    "instance",
    "_Feature"
   ],
   "window_display": false
  }
 },
 "nbformat": 4,
 "nbformat_minor": 2
}
